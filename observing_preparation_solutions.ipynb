{
 "cells": [
  {
   "cell_type": "markdown",
   "metadata": {},
   "source": [
    "# Observing Run Preparation Module\n",
    "\n",
    "**Lecturer:** Robert Quimby<br>\n",
    "**Jupyter Notebook Author:** Shubham Srivastav & Cameron Hummels\n",
    "\n",
    "This is a Jupyter notebook lesson taken from the GROWTH Winter School 2018.  For other lessons and their accompanying lectures, please see: http://growth.caltech.edu/growth-astro-school-2018-resources.html\n",
    "\n",
    "## Objective\n",
    "Demonstrate how to plan observations prior to an observing run.\n",
    "\n",
    "## Key steps\n",
    "- Select targets\n",
    "- Get visibility and airmass plots\n",
    "- Get moon separation angles\n",
    "- Calculate exposure times for targets\n",
    "\n",
    "## Required dependencies\n",
    "\n",
    "See GROWTH school webpage for detailed instructions on how to install these modules and packages.  Nominally, you should be able to install the python modules with `pip install <module>`.  The external astromatic packages are easiest installed using package managers (e.g., `rpm`, `apt-get`).\n",
    "\n",
    "### Python modules\n",
    "* python 3\n",
    "* astropy\n",
    "* numpy\n",
    "* matplotlib\n",
    "* astroplan\n",
    "* pytz\n",
    "\n",
    "### External packages\n",
    "None"
   ]
  },
  {
   "cell_type": "code",
   "execution_count": 15,
   "metadata": {},
   "outputs": [],
   "source": [
    "import numpy as np\n",
    "from astropy import units as u\n",
    "from astropy.time import Time\n",
    "from astropy.coordinates import SkyCoord\n",
    "from astropy.coordinates import EarthLocation\n",
    "import pytz\n",
    "%matplotlib inline\n",
    "from astroplan import Observer, FixedTarget\n",
    "from astropy.utils.iers import conf\n",
    "conf.auto_max_age = None\n",
    "from astroplan import download_IERS_A \n",
    "from astropy.coordinates import get_sun, get_moon, get_body\n",
    "from astroplan import moon_illumination"
   ]
  },
  {
   "cell_type": "markdown",
   "metadata": {},
   "source": [
    "### Date and Time\n",
    "- Dates and times are in UTC\n",
    "- Default time is 00:00:00 UTC (verify this)"
   ]
  },
  {
   "cell_type": "code",
   "execution_count": 16,
   "metadata": {},
   "outputs": [
    {
     "name": "stdout",
     "output_type": "stream",
     "text": [
      "2018-12-03 00:00:00.000\n"
     ]
    }
   ],
   "source": [
    "date = Time(\"2018-12-03\", format='iso')\n",
    "print(date)"
   ]
  },
  {
   "cell_type": "markdown",
   "metadata": {},
   "source": [
    "### What is the current UTC?"
   ]
  },
  {
   "cell_type": "code",
   "execution_count": 17,
   "metadata": {},
   "outputs": [
    {
     "name": "stdout",
     "output_type": "stream",
     "text": [
      "2023-06-09 10:15:26.960357\n",
      "2460104.9273953745\n",
      "60104.4273953745\n",
      "2023.4367873845877\n"
     ]
    }
   ],
   "source": [
    "now = Time.now()\n",
    "print(now)\n",
    "print(now.jd)\n",
    "print(now.mjd)\n",
    "print(now.decimalyear)"
   ]
  },
  {
   "cell_type": "markdown",
   "metadata": {},
   "source": [
    "### Exercise\n",
    "What time will it be (in UTC) after 1 hour 45 minutes from now? Complete the line below to print it out."
   ]
  },
  {
   "cell_type": "code",
   "execution_count": 18,
   "metadata": {},
   "outputs": [
    {
     "name": "stdout",
     "output_type": "stream",
     "text": [
      "In 1 hour and 45 minutes, the time will be 2023-06-09 12:00:26.960357 UTC\n"
     ]
    }
   ],
   "source": [
    "print(\"In 1 hour and 45 minutes, the time will be {0} UTC\".format(now + 1*u.h + 45*u.min))"
   ]
  },
  {
   "cell_type": "markdown",
   "metadata": {},
   "source": [
    "### Using UT1\n",
    "- To keep accurate time, the changes in earth's rotation period have to be taken into account.\n",
    "- AstroPy does this using a convention called UT1, that is tied to the rotation of earth with respect to the position of distant quasars. IERS - International Earth Rotation and Reference Systems Service keeps continuous tabs on the orientation of the earth and updates the data in the IERS bulletin.\n",
    "Update the bulletin:"
   ]
  },
  {
   "cell_type": "code",
   "execution_count": 19,
   "metadata": {},
   "outputs": [],
   "source": [
    "download_IERS_A()"
   ]
  },
  {
   "cell_type": "markdown",
   "metadata": {},
   "source": [
    "### Check to see what observatories are available in the database."
   ]
  },
  {
   "cell_type": "code",
   "execution_count": 20,
   "metadata": {},
   "outputs": [
    {
     "name": "stdout",
     "output_type": "stream",
     "text": [
      "Available observatories: \n",
      "ALMA, AO, ARCA, ASKAP, ATA, ATST, Allen Telescope Array, Anderson Mesa, Anglo-Australian Observatory, Apache Point, Apache Point Observatory, Arecibo, Arecibo Observatory, Astroparticle Research with Cosmics in the Abyss, Atacama Large Millimeter Array, Australian Square Kilometre Array Pathfinder, BAO, BBSO, Beijing XingLong Observatory, Big Bear Solar Observatory, Black Moshannon Observatory, CAHA, CAHA, CHARA, CHIME, Canada-France-Hawaii Telescope, Canadian Hydrogen Intensity Mapping Experiment, Catalina Observatory, Catalina Observatory: 61 inch telescope, Centro Astronomico Hispano-Aleman, Almeria, Cerro Pachon, Cerro Paranal, Cerro Tololo, Cerro Tololo Interamerican Observatory, Cima Ekar 182 cm Telescope, Cima Ekar Observing Station, DCT, DKIST, DRAO, DRAO 26m Telescope, Daniel K. Inouye Solar Telescope, Discovery Channel Telescope, Dominion Astrophysical Observatory, Dominion Radio Astrophysical Observatory, Effelsberg, Effelsberg 100-m Radio Telescope, FAST, Five-hundred-meter Aperture Spherical radio Telescope, G1, GBT, GEO, GEO600 Gravitational Wave Detector, GEO_600, GMRT, Gemini North, Gemini South, Giant Metrewave Radio Telescope, Green Bank Observatory, Green Bank Telescope, H1, HALO, HET, Hale Telescope, Haleakala Observatories, Happy Jack, Hat Creek, Hat Creek Radio Observatory, Helium And Lead Observatory, Hobby Eberly Telescope, Hyper-Kamiokande, HyperK, Hyperk, IAO, ICECUBE, IceCube, IceCube Neutrino Observatory, Indian Astronomical Observatory, JCMT, James Clerk Maxwell Telescope, Jansky Very Large Array, John Galt Telescope, K1, KAGRA, KM3NeT ARCA, KM3NeT ORCA, KM3NeT arca, KM3NeT orca, Kamioka Gravitational Wave Detector, Keck Observatory, Kitt Peak, Kitt Peak National Observatory, L1, LDT, LHO, LHO_4k, LIGO Hanford Observatory, LIGO Livingston Observatory, LLO, LLO_4k, LOFAR, LWA1, La Silla Observatory, La Silla Observatory (ESO), Large Binocular Telescope, Las Campanas Observatory, Lick Observatory, Long Wavelength Array 1, Low-Frequency Array, Lowell Discovery Telescope, Lowell Observatory, Lowell Observatory - Anderson Mesa, Lowell Observatory - Mars Hill, MDM Observatory, MEERKAT, MJO, MOA, MWA, Manastash Ridge Observatory, Mars Hill, McDonald Observatory, Medicina, Medicina Dish, Medicina Radio Telescope, MeerKAT, Michigan-Dartmouth-MIT Observatory, Mont Mégantic Observatory, Mount Graham International Observatory, Mount Wilson Observatory, Mt Graham, Mt John, Mt. Ekar 182 cm Telescope, Mt. Stromlo Observatory, Multiple Mirror Telescope, Murchison Widefield Array, Murriyang, NANCAY, NASA Infrared Telescope Facility, NOV, NOVA, NOvA, NPOI, NST, Nancay, Nancay Radio Telescope, National Observatory of Venezuela, Navy Precision Optical Interferometer, Noto, Noto Radio Telescope, NuMI Off-axis νe Appearance, OAJ, OAJ, OAO, OAO, OARMA, OARMA, OMM, ORCA, OT, Observatoire SIRENE, Observatoire de Haute Provence, Observatoire du Mont Mégantic, Observatorio Astrofisico de Javalambre, Observatorio Astronomico Nacional, San Pedro Martir, Observatorio Astronomico Nacional, Tonantzintla, Observatorio Astronomico Ramon Maria Aller, Santiago de Compostela, Observatorio Ramon Maria Aller, Observatorio de Calar Alto, Observatorio del Teide, Observatorio del Teide, Tenerife, Okayama Astrophysical Observatory, Oscillation Research with Cosmics in the Abyss, Otehiwai, Otehiwai Observatory, Owens Valley Radio Observatory, PTO, Palomar, Paranal Observatory, Paranal Observatory (ESO), Parkes, Perkins, Roque de los Muchachos, Roque de los Muchachos, La Palma, Royal Observatory Greenwich, SAAO, SALT, SNO+, SPO, SRT, Sac Peak, Sacramento Peak, Sacramento Peak Observatory, Sardinia Radio Telescope, Siding Spring Observatory, Southern African Large Telescope, Subaru, Subaru Telescope, Sudbury Neutrino Observatory +, Sunspot, Super-Kamiokande, SuperK, Superk, Sutherland, TNO, TNO, TUBITAK National Observatory, TUG, Thai National Observatory, The Hale Telescope, UKIRT, United Kingdom Infrared Telescope, V1, VIRGO, Vainu Bappu Observatory, Very Large Array, Virgo, Virgo Observatory, W. M. Keck Observatory, WIYN, WIYN 3.5 m, WIYN Observatory, Whipple, Whipple Observatory, Wise Observatory, aao, alma, ao, apo, arca, arecibo, askap, bbso, bmo, cfht, chime, ctio, dao, dct, dkist, drao, effelsberg, ekar, example_site, fast, flwo, gbt, gemini_north, gemini_south, gemn, gems, geo_600, gmrt, greenwich, haleakala, halo, hcro, het, hyperK, hyperk, iao, icecube, irtf, jcmt, kagra, keck, km3net arca, km3net orca, kpno, lapalma, lasilla, lbt, lco, ldt, lho_4k, lick, llo_4k, lo-am, lo-mh, lofar, lowell, lwa1, mars_hill, mcdonald, mdm, medicina, meerkat, mh, mma, mmt, mro, mso, mtbigelow, mwa, mwo, nancay, noto, nova, ohp, omm, orca, ovro, paranal, parkes, pto, salt, sirene, sno+, spm, spo, srt, sso, superK, superk, teide, tona, tug, ukirt, vbo, virgo, vla, wise, wise, wiyn\n"
     ]
    }
   ],
   "source": [
    "print(\"Available observatories: \\n{0}\"\n",
    "      .format(', '.join(EarthLocation.get_site_names())))"
   ]
  },
  {
   "cell_type": "markdown",
   "metadata": {},
   "source": [
    "### Setting up observatory location"
   ]
  },
  {
   "cell_type": "code",
   "execution_count": 21,
   "metadata": {},
   "outputs": [
    {
     "data": {
      "text/plain": [
       "<Observer: name='IAO',\n",
       "    location (lon, lat, el)=(78.96472222222222 deg, 32.77888888888889 deg, 4499.999999999798 m),\n",
       "    timezone=<DstTzInfo 'Asia/Kolkata' LMT+5:53:00 STD>>"
      ]
     },
     "execution_count": 21,
     "metadata": {},
     "output_type": "execute_result"
    }
   ],
   "source": [
    "#Indian Astronomical Observatory is not listed in the database, so let's define the location\n",
    "longitude = '78d57m53s'\n",
    "latitude = '32d46m44s'\n",
    "elevation = 4500 * u.m\n",
    "location = EarthLocation.from_geodetic(longitude, latitude, elevation)\n",
    "iaohanle = Observer(location = location, timezone = 'Asia/Kolkata',\n",
    "                             name = \"IAO\", description = \"GROWTH-India 70cm telescope\")\n",
    "iaohanle"
   ]
  },
  {
   "cell_type": "markdown",
   "metadata": {},
   "source": [
    "### Sunset, Sunrise, Midnight"
   ]
  },
  {
   "cell_type": "code",
   "execution_count": 22,
   "metadata": {},
   "outputs": [
    {
     "name": "stdout",
     "output_type": "stream",
     "text": [
      "Sunset at IAO will be at 2023-06-09 13:46:38.069 UTC\n",
      "Astronomical evening twilight at IAO will be at 2023-06-09 15:32:12.475 UTC\n",
      "Midnight at IAO will be at 2023-06-09 18:43:22.016 UTC\n",
      "Astronomical morning twilight at IAO will be at 2023-06-09 21:54:31.234 UTC\n",
      "Sunrise at IAO will be at 2023-06-09 23:40:06.006 UTC\n"
     ]
    }
   ],
   "source": [
    "#Calculating the sunset, midnight and sunrise times for our observatory \n",
    "#What is astronomical twilight?\n",
    "sunset_iao = iaohanle.sun_set_time(now, which='nearest')\n",
    "eve_twil_iao = iaohanle.twilight_evening_astronomical(now, which='nearest')\n",
    "midnight_iao = iaohanle.midnight(now, which='next')\n",
    "morn_twil_iao = iaohanle.twilight_morning_astronomical(now, which='next')\n",
    "sunrise_iao = iaohanle.sun_rise_time(now, which='next')\n",
    "\n",
    "print(\"Sunset at IAO will be at {0.iso} UTC\".format(sunset_iao))\n",
    "print(\"Astronomical evening twilight at IAO will be at {0.iso} UTC\".format(eve_twil_iao))\n",
    "print(\"Midnight at IAO will be at {0.iso} UTC\".format(midnight_iao))\n",
    "print(\"Astronomical morning twilight at IAO will be at {0.iso} UTC\".format(morn_twil_iao))\n",
    "print(\"Sunrise at IAO will be at {0.iso} UTC\".format(sunrise_iao))\n"
   ]
  },
  {
   "cell_type": "markdown",
   "metadata": {},
   "source": [
    "### Exercise \n",
    "Find the effective length of time (in hours) available for astronomical observations at IAO tonight"
   ]
  },
  {
   "cell_type": "code",
   "execution_count": 23,
   "metadata": {},
   "outputs": [
    {
     "name": "stdout",
     "output_type": "stream",
     "text": [
      "You can observe for 6.4 h at IAO tonight\n"
     ]
    }
   ],
   "source": [
    "observing_time = (morn_twil_iao - eve_twil_iao).to(u.h)\n",
    "print(\"You can observe for {0:.1f} at IAO tonight\".format(observing_time))\n"
   ]
  },
  {
   "cell_type": "markdown",
   "metadata": {},
   "source": [
    "### Local Sidereal Time (LST)"
   ]
  },
  {
   "cell_type": "code",
   "execution_count": 24,
   "metadata": {},
   "outputs": [
    {
     "name": "stdout",
     "output_type": "stream",
     "text": [
      "LST at IAO now is 8.69 hourangle\n",
      "LST at IAO at local midnight will be 17.18 hourangle\n"
     ]
    }
   ],
   "source": [
    "#What is the LST now at IAO Hanle?\n",
    "#What would the LST be at IAO at local midnight?\n",
    "lst_now = iaohanle.local_sidereal_time(now)\n",
    "lst_mid = iaohanle.local_sidereal_time(midnight_iao)\n",
    "print(\"LST at IAO now is {0:.2f}\".format(lst_now))\n",
    "print(\"LST at IAO at local midnight will be {0:.2f}\".format(lst_mid))"
   ]
  },
  {
   "cell_type": "markdown",
   "metadata": {},
   "source": [
    "### Choosing targets for observations\n",
    "Targets can be defined by name or coordinates.\n"
   ]
  },
  {
   "cell_type": "code",
   "execution_count": 25,
   "metadata": {},
   "outputs": [
    {
     "data": {
      "text/plain": [
       "hms_tuple(h=0.0, m=42.0, s=41.799999999999926)"
      ]
     },
     "execution_count": 25,
     "metadata": {},
     "output_type": "execute_result"
    }
   ],
   "source": [
    "coords = SkyCoord('00h42m41.8s', '+40d51m55.0s', frame='icrs') # coordinates of Andromeda Galaxy (M32) \n",
    "m32 = FixedTarget(name = 'M32', coord=coords)\n",
    "m32.ra.hms"
   ]
  },
  {
   "cell_type": "code",
   "execution_count": 26,
   "metadata": {},
   "outputs": [
    {
     "name": "stdout",
     "output_type": "stream",
     "text": [
      "False\n",
      "True\n",
      "True\n"
     ]
    }
   ],
   "source": [
    "#Check to see if target is up at evening twilight.\n",
    "#Also check if target is available at midnight and morning twilight.\n",
    "\n",
    "print(iaohanle.target_is_up(eve_twil_iao, m32))\n",
    "print(iaohanle.target_is_up(midnight_iao, m32))\n",
    "print(iaohanle.target_is_up(morn_twil_iao, m32))"
   ]
  },
  {
   "cell_type": "code",
   "execution_count": 27,
   "metadata": {},
   "outputs": [
    {
     "data": {
      "text/plain": [
       "(-14.227253311184105, 14.513320381277856)"
      ]
     },
     "execution_count": 27,
     "metadata": {},
     "output_type": "execute_result"
    }
   ],
   "source": [
    "#Altitude and Azimuth of target\n",
    "aa = iaohanle.altaz(eve_twil_iao, m32)\n",
    "aa.alt.degree, aa.az.degree"
   ]
  },
  {
   "cell_type": "markdown",
   "metadata": {},
   "source": [
    "Checking rise times of targets"
   ]
  },
  {
   "cell_type": "code",
   "execution_count": 28,
   "metadata": {},
   "outputs": [
    {
     "name": "stdout",
     "output_type": "stream",
     "text": [
      "2023-06-09 18:00:35.842\n"
     ]
    }
   ],
   "source": [
    "m32rise = iaohanle.target_rise_time(now, m32, which = 'next', horizon = 0 * u.deg)\n",
    "print(m32rise.iso)  #default format is JD"
   ]
  },
  {
   "cell_type": "markdown",
   "metadata": {},
   "source": [
    "### Defining targets by name"
   ]
  },
  {
   "cell_type": "code",
   "execution_count": 29,
   "metadata": {},
   "outputs": [
    {
     "data": {
      "text/plain": [
       "<SkyCoord (ICRS): (ra, dec) in deg\n",
       "    (202.469575, 47.1952583)>"
      ]
     },
     "execution_count": 29,
     "metadata": {},
     "output_type": "execute_result"
    }
   ],
   "source": [
    "target = FixedTarget.from_name('m51') #Messier 51\n",
    "target.coord"
   ]
  },
  {
   "cell_type": "markdown",
   "metadata": {},
   "source": [
    "### Dealing with moving targets"
   ]
  },
  {
   "cell_type": "code",
   "execution_count": 30,
   "metadata": {},
   "outputs": [
    {
     "data": {
      "text/plain": [
       "<SkyCoord (GCRS: obstime=2023-06-09 10:15:26.960357, obsgeoloc=(0., 0., 0.) m, obsgeovel=(0., 0., 0.) m / s): (ra, dec, distance) in (deg, deg, AU)\n",
       "    (32.95011214, 12.10397002, 5.64767104)>"
      ]
     },
     "execution_count": 30,
     "metadata": {},
     "output_type": "execute_result"
    }
   ],
   "source": [
    "get_body('jupiter', now)"
   ]
  },
  {
   "cell_type": "code",
   "execution_count": 31,
   "metadata": {},
   "outputs": [
    {
     "name": "stderr",
     "output_type": "stream",
     "text": [
      "WARNING: AstropyDeprecationWarning: The get_moon function is deprecated and may be removed in a future version.\n",
      "        Use get_body(\"moon\") instead. [warnings]\n"
     ]
    },
    {
     "data": {
      "text/plain": [
       "<SkyCoord (GCRS: obstime=2460105.2801159243, obsgeoloc=(0., 0., 0.) m, obsgeovel=(0., 0., 0.) m / s): (ra, dec, distance) in (deg, deg, AU)\n",
       "    (338.22726681, -13.83412779, 0.00246598)>"
      ]
     },
     "execution_count": 31,
     "metadata": {},
     "output_type": "execute_result"
    }
   ],
   "source": [
    "#get moon position at midnight \n",
    "get_moon(midnight_iao)"
   ]
  },
  {
   "cell_type": "code",
   "execution_count": 32,
   "metadata": {},
   "outputs": [
    {
     "name": "stderr",
     "output_type": "stream",
     "text": [
      "WARNING: AstropyDeprecationWarning: The get_moon function is deprecated and may be removed in a future version.\n",
      "        Use get_body(\"moon\") instead. [astroplan.moon]\n"
     ]
    },
    {
     "data": {
      "text/plain": [
       "0.6185716820298206"
      ]
     },
     "execution_count": 32,
     "metadata": {},
     "output_type": "execute_result"
    }
   ],
   "source": [
    "#How bright is the moon at midnight?\n",
    "moon_illumination(midnight_iao)"
   ]
  },
  {
   "cell_type": "code",
   "execution_count": 33,
   "metadata": {},
   "outputs": [
    {
     "data": {
      "text/plain": [
       "<SkyCoord (GCRS: obstime=2460105.2801159243, obsgeoloc=(0., 0., 0.) m, obsgeovel=(0., 0., 0.) m / s): (ra, dec, distance) in (deg, deg, AU)\n",
       "    (339.14118481, -10.44817912, 9.54082436)>"
      ]
     },
     "execution_count": 33,
     "metadata": {},
     "output_type": "execute_result"
    }
   ],
   "source": [
    "#We can turn solar system objects into 'pseudo-fixed' targets to plan observations\n",
    "saturn_midnight = FixedTarget(name = 'Saturn', coord = get_body('saturn', midnight_iao))\n",
    "saturn_midnight.coord"
   ]
  },
  {
   "cell_type": "markdown",
   "metadata": {},
   "source": [
    "### Airmass\n",
    "- Ideally, targets should be observed when they have the least airmass. Airmass ranges from 1 (zenith) to ~38 at the horizon.\n",
    "- Airmass is 2.0 at alt=30, 2.9 at alt=20 and 3.9 at alt=15 degrees\n",
    "- As a general rule of thumb, try observing targets when airmass > 2\n",
    "- Let us find the airmass of M33 at midnight at IAO"
   ]
  },
  {
   "cell_type": "code",
   "execution_count": 34,
   "metadata": {},
   "outputs": [
    {
     "data": {
      "text/plain": [
       "True"
      ]
     },
     "execution_count": 34,
     "metadata": {},
     "output_type": "execute_result"
    }
   ],
   "source": [
    "#Is the target up at IAO at midnight?\n",
    "iaohanle.target_is_up(midnight_iao, target)"
   ]
  },
  {
   "cell_type": "code",
   "execution_count": 35,
   "metadata": {},
   "outputs": [
    {
     "data": {
      "text/plain": [
       "<SkyCoord (AltAz: obstime=2460105.2801159243, location=(1028191.03516148, 5272251.01802928, 3435803.52567405) m, pressure=0.0 hPa, temperature=0.0 deg_C, relative_humidity=0.0, obswl=1.0 micron): (az, alt) in deg\n",
       "    (305.92570579, 46.48368775)>"
      ]
     },
     "execution_count": 35,
     "metadata": {},
     "output_type": "execute_result"
    }
   ],
   "source": [
    "#lets check the alt and az of the target at midnight\n",
    "target_altaz = iaohanle.altaz(midnight_iao, target)\n",
    "target_altaz.altaz"
   ]
  },
  {
   "cell_type": "markdown",
   "metadata": {},
   "source": [
    "That's a good enough elevation to observe the target."
   ]
  },
  {
   "cell_type": "code",
   "execution_count": 36,
   "metadata": {},
   "outputs": [
    {
     "data": {
      "text/latex": [
       "$1.3789711 \\; \\mathrm{}$"
      ],
      "text/plain": [
       "<Quantity 1.37897109>"
      ]
     },
     "execution_count": 36,
     "metadata": {},
     "output_type": "execute_result"
    }
   ],
   "source": [
    "#Find the airmass\n",
    "target_altaz.secz"
   ]
  },
  {
   "cell_type": "markdown",
   "metadata": {},
   "source": [
    "Now we can visualize what we have done so far using some plots"
   ]
  },
  {
   "cell_type": "code",
   "execution_count": 37,
   "metadata": {},
   "outputs": [],
   "source": [
    "import matplotlib.pyplot as plt\n",
    "from astroplan.plots import plot_sky, plot_airmass"
   ]
  },
  {
   "cell_type": "code",
   "execution_count": 38,
   "metadata": {},
   "outputs": [
    {
     "ename": "TypeError",
     "evalue": "gca() got an unexpected keyword argument 'projection'",
     "output_type": "error",
     "traceback": [
      "\u001b[1;31m---------------------------------------------------------------------------\u001b[0m",
      "\u001b[1;31mTypeError\u001b[0m                                 Traceback (most recent call last)",
      "Cell \u001b[1;32mIn[38], line 2\u001b[0m\n\u001b[0;32m      1\u001b[0m \u001b[38;5;66;03m#position of target at midnight\u001b[39;00m\n\u001b[1;32m----> 2\u001b[0m \u001b[43mplot_sky\u001b[49m\u001b[43m(\u001b[49m\u001b[43mtarget\u001b[49m\u001b[43m,\u001b[49m\u001b[43m \u001b[49m\u001b[43miaohanle\u001b[49m\u001b[43m,\u001b[49m\u001b[43m \u001b[49m\u001b[43mmidnight_iao\u001b[49m\u001b[43m)\u001b[49m\n",
      "File \u001b[1;32m~\\AppData\\Roaming\\Python\\Python310\\site-packages\\astropy\\units\\decorators.py:313\u001b[0m, in \u001b[0;36mQuantityInput.__call__.<locals>.wrapper\u001b[1;34m(*func_args, **func_kwargs)\u001b[0m\n\u001b[0;32m    311\u001b[0m \u001b[38;5;66;03m# Call the original function with any equivalencies in force.\u001b[39;00m\n\u001b[0;32m    312\u001b[0m \u001b[38;5;28;01mwith\u001b[39;00m add_enabled_equivalencies(\u001b[38;5;28mself\u001b[39m\u001b[38;5;241m.\u001b[39mequivalencies):\n\u001b[1;32m--> 313\u001b[0m     return_ \u001b[38;5;241m=\u001b[39m wrapped_function(\u001b[38;5;241m*\u001b[39mfunc_args, \u001b[38;5;241m*\u001b[39m\u001b[38;5;241m*\u001b[39mfunc_kwargs)\n\u001b[0;32m    315\u001b[0m \u001b[38;5;66;03m# Return\u001b[39;00m\n\u001b[0;32m    316\u001b[0m ra \u001b[38;5;241m=\u001b[39m wrapped_signature\u001b[38;5;241m.\u001b[39mreturn_annotation\n",
      "File \u001b[1;32m~\\AppData\\Roaming\\Python\\Python310\\site-packages\\astroplan\\plots\\sky.py:120\u001b[0m, in \u001b[0;36mplot_sky\u001b[1;34m(target, observer, time, ax, style_kwargs, north_to_east_ccw, grid, az_label_offset, warn_below_horizon, style_sheet)\u001b[0m\n\u001b[0;32m    118\u001b[0m \u001b[38;5;66;03m# Set up axes & plot styles if needed.\u001b[39;00m\n\u001b[0;32m    119\u001b[0m \u001b[38;5;28;01mif\u001b[39;00m ax \u001b[38;5;129;01mis\u001b[39;00m \u001b[38;5;28;01mNone\u001b[39;00m:\n\u001b[1;32m--> 120\u001b[0m     ax \u001b[38;5;241m=\u001b[39m \u001b[43mplt\u001b[49m\u001b[38;5;241;43m.\u001b[39;49m\u001b[43mgca\u001b[49m\u001b[43m(\u001b[49m\u001b[43mprojection\u001b[49m\u001b[38;5;241;43m=\u001b[39;49m\u001b[38;5;124;43m'\u001b[39;49m\u001b[38;5;124;43mpolar\u001b[39;49m\u001b[38;5;124;43m'\u001b[39;49m\u001b[43m)\u001b[49m\n\u001b[0;32m    121\u001b[0m \u001b[38;5;28;01mif\u001b[39;00m style_kwargs \u001b[38;5;129;01mis\u001b[39;00m \u001b[38;5;28;01mNone\u001b[39;00m:\n\u001b[0;32m    122\u001b[0m     style_kwargs \u001b[38;5;241m=\u001b[39m {}\n",
      "\u001b[1;31mTypeError\u001b[0m: gca() got an unexpected keyword argument 'projection'"
     ]
    }
   ],
   "source": [
    "#position of target at midnight\n",
    "plot_sky(target, iaohanle, midnight_iao)"
   ]
  },
  {
   "cell_type": "markdown",
   "metadata": {},
   "source": [
    "Now let us see how the target moves over the course of the night"
   ]
  },
  {
   "cell_type": "code",
   "execution_count": 39,
   "metadata": {},
   "outputs": [
    {
     "ename": "TypeError",
     "evalue": "gca() got an unexpected keyword argument 'projection'",
     "output_type": "error",
     "traceback": [
      "\u001b[1;31m---------------------------------------------------------------------------\u001b[0m",
      "\u001b[1;31mTypeError\u001b[0m                                 Traceback (most recent call last)",
      "Cell \u001b[1;32mIn[39], line 4\u001b[0m\n\u001b[0;32m      2\u001b[0m t_end \u001b[38;5;241m=\u001b[39m morn_twil_iao\n\u001b[0;32m      3\u001b[0m t_observe \u001b[38;5;241m=\u001b[39m t_start \u001b[38;5;241m+\u001b[39m (t_end \u001b[38;5;241m-\u001b[39m t_start) \u001b[38;5;241m*\u001b[39m np\u001b[38;5;241m.\u001b[39mlinspace(\u001b[38;5;241m0.0\u001b[39m, \u001b[38;5;241m1.0\u001b[39m, \u001b[38;5;241m20\u001b[39m)\n\u001b[1;32m----> 4\u001b[0m \u001b[43mplot_sky\u001b[49m\u001b[43m(\u001b[49m\u001b[43mtarget\u001b[49m\u001b[43m,\u001b[49m\u001b[43m \u001b[49m\u001b[43miaohanle\u001b[49m\u001b[43m,\u001b[49m\u001b[43m \u001b[49m\u001b[43mt_observe\u001b[49m\u001b[43m)\u001b[49m\n",
      "File \u001b[1;32m~\\AppData\\Roaming\\Python\\Python310\\site-packages\\astropy\\units\\decorators.py:313\u001b[0m, in \u001b[0;36mQuantityInput.__call__.<locals>.wrapper\u001b[1;34m(*func_args, **func_kwargs)\u001b[0m\n\u001b[0;32m    311\u001b[0m \u001b[38;5;66;03m# Call the original function with any equivalencies in force.\u001b[39;00m\n\u001b[0;32m    312\u001b[0m \u001b[38;5;28;01mwith\u001b[39;00m add_enabled_equivalencies(\u001b[38;5;28mself\u001b[39m\u001b[38;5;241m.\u001b[39mequivalencies):\n\u001b[1;32m--> 313\u001b[0m     return_ \u001b[38;5;241m=\u001b[39m wrapped_function(\u001b[38;5;241m*\u001b[39mfunc_args, \u001b[38;5;241m*\u001b[39m\u001b[38;5;241m*\u001b[39mfunc_kwargs)\n\u001b[0;32m    315\u001b[0m \u001b[38;5;66;03m# Return\u001b[39;00m\n\u001b[0;32m    316\u001b[0m ra \u001b[38;5;241m=\u001b[39m wrapped_signature\u001b[38;5;241m.\u001b[39mreturn_annotation\n",
      "File \u001b[1;32m~\\AppData\\Roaming\\Python\\Python310\\site-packages\\astroplan\\plots\\sky.py:120\u001b[0m, in \u001b[0;36mplot_sky\u001b[1;34m(target, observer, time, ax, style_kwargs, north_to_east_ccw, grid, az_label_offset, warn_below_horizon, style_sheet)\u001b[0m\n\u001b[0;32m    118\u001b[0m \u001b[38;5;66;03m# Set up axes & plot styles if needed.\u001b[39;00m\n\u001b[0;32m    119\u001b[0m \u001b[38;5;28;01mif\u001b[39;00m ax \u001b[38;5;129;01mis\u001b[39;00m \u001b[38;5;28;01mNone\u001b[39;00m:\n\u001b[1;32m--> 120\u001b[0m     ax \u001b[38;5;241m=\u001b[39m \u001b[43mplt\u001b[49m\u001b[38;5;241;43m.\u001b[39;49m\u001b[43mgca\u001b[49m\u001b[43m(\u001b[49m\u001b[43mprojection\u001b[49m\u001b[38;5;241;43m=\u001b[39;49m\u001b[38;5;124;43m'\u001b[39;49m\u001b[38;5;124;43mpolar\u001b[39;49m\u001b[38;5;124;43m'\u001b[39;49m\u001b[43m)\u001b[49m\n\u001b[0;32m    121\u001b[0m \u001b[38;5;28;01mif\u001b[39;00m style_kwargs \u001b[38;5;129;01mis\u001b[39;00m \u001b[38;5;28;01mNone\u001b[39;00m:\n\u001b[0;32m    122\u001b[0m     style_kwargs \u001b[38;5;241m=\u001b[39m {}\n",
      "\u001b[1;31mTypeError\u001b[0m: gca() got an unexpected keyword argument 'projection'"
     ]
    }
   ],
   "source": [
    "t_start = eve_twil_iao\n",
    "t_end = morn_twil_iao\n",
    "t_observe = t_start + (t_end - t_start) * np.linspace(0.0, 1.0, 20)\n",
    "plot_sky(target, iaohanle, t_observe)"
   ]
  },
  {
   "cell_type": "markdown",
   "metadata": {},
   "source": [
    "Now let's plot the airmass as a function of time"
   ]
  },
  {
   "cell_type": "code",
   "execution_count": 40,
   "metadata": {},
   "outputs": [
    {
     "name": "stderr",
     "output_type": "stream",
     "text": [
      "WARNING: TimeDeltaMissingUnitWarning: Numerical value without unit or explicit format passed to TimeDelta, assuming days [astropy.time.core]\n",
      "C:\\Users\\bveda\\AppData\\Roaming\\Python\\Python310\\site-packages\\astroplan\\plots\\time_dependent.py:194: UserWarning: linestyle is redundantly defined by the 'linestyle' keyword argument and the fmt string \"-\" (-> linestyle='-'). The keyword argument will take precedence.\n",
      "  ax.plot_date(timetoplot.plot_date, masked_airmass, label=target_name, **style_kwargs)\n"
     ]
    },
    {
     "data": {
      "text/plain": [
       "(4.0, 0.5)"
      ]
     },
     "execution_count": 40,
     "metadata": {},
     "output_type": "execute_result"
    },
    {
     "data": {
      "image/png": "[encoded data removed]",
      "text/plain": [
       "<Figure size 640x480 with 1 Axes>"
      ]
     },
     "metadata": {},
     "output_type": "display_data"
    }
   ],
   "source": [
    "plot_airmass(target, iaohanle, t_observe)\n",
    "plt.ylim(4,0.5)"
   ]
  },
  {
   "cell_type": "markdown",
   "metadata": {},
   "source": [
    "The airmass is above 2 for the better part of the night, making M51 a good target to observe from IAO tonight.\n",
    "Note that the default airmass limit is 3 in astroplan, corresponding to ~19 degrees elevation."
   ]
  },
  {
   "cell_type": "markdown",
   "metadata": {},
   "source": [
    "### Finder Charts"
   ]
  },
  {
   "cell_type": "code",
   "execution_count": 41,
   "metadata": {},
   "outputs": [],
   "source": [
    "from astroplan.plots import plot_finder_image\n",
    "from astroquery.skyview import SkyView"
   ]
  },
  {
   "cell_type": "code",
   "execution_count": 42,
   "metadata": {},
   "outputs": [
    {
     "ename": "TypeError",
     "evalue": "gca() got an unexpected keyword argument 'projection'",
     "output_type": "error",
     "traceback": [
      "\u001b[1;31m---------------------------------------------------------------------------\u001b[0m",
      "\u001b[1;31mTypeError\u001b[0m                                 Traceback (most recent call last)",
      "Cell \u001b[1;32mIn[42], line 1\u001b[0m\n\u001b[1;32m----> 1\u001b[0m \u001b[43mplot_finder_image\u001b[49m\u001b[43m(\u001b[49m\u001b[43mtarget\u001b[49m\u001b[43m,\u001b[49m\u001b[43m \u001b[49m\u001b[43mfov_radius\u001b[49m\u001b[43m \u001b[49m\u001b[38;5;241;43m=\u001b[39;49m\u001b[43m \u001b[49m\u001b[38;5;241;43m20\u001b[39;49m\u001b[43m \u001b[49m\u001b[38;5;241;43m*\u001b[39;49m\u001b[43m \u001b[49m\u001b[43mu\u001b[49m\u001b[38;5;241;43m.\u001b[39;49m\u001b[43marcmin\u001b[49m\u001b[43m)\u001b[49m  \u001b[38;5;66;03m#field of view corresponding to the GROWTH-India telesocpe\u001b[39;00m\n",
      "File \u001b[1;32m~\\AppData\\Roaming\\Python\\Python310\\site-packages\\astropy\\units\\decorators.py:313\u001b[0m, in \u001b[0;36mQuantityInput.__call__.<locals>.wrapper\u001b[1;34m(*func_args, **func_kwargs)\u001b[0m\n\u001b[0;32m    311\u001b[0m \u001b[38;5;66;03m# Call the original function with any equivalencies in force.\u001b[39;00m\n\u001b[0;32m    312\u001b[0m \u001b[38;5;28;01mwith\u001b[39;00m add_enabled_equivalencies(\u001b[38;5;28mself\u001b[39m\u001b[38;5;241m.\u001b[39mequivalencies):\n\u001b[1;32m--> 313\u001b[0m     return_ \u001b[38;5;241m=\u001b[39m wrapped_function(\u001b[38;5;241m*\u001b[39mfunc_args, \u001b[38;5;241m*\u001b[39m\u001b[38;5;241m*\u001b[39mfunc_kwargs)\n\u001b[0;32m    315\u001b[0m \u001b[38;5;66;03m# Return\u001b[39;00m\n\u001b[0;32m    316\u001b[0m ra \u001b[38;5;241m=\u001b[39m wrapped_signature\u001b[38;5;241m.\u001b[39mreturn_annotation\n",
      "File \u001b[1;32m~\\AppData\\Roaming\\Python\\Python310\\site-packages\\astroplan\\plots\\finder.py:94\u001b[0m, in \u001b[0;36mplot_finder_image\u001b[1;34m(target, survey, fov_radius, log, ax, grid, reticle, style_kwargs, reticle_style_kwargs)\u001b[0m\n\u001b[0;32m     92\u001b[0m \u001b[38;5;66;03m# Set up axes & plot styles if needed.\u001b[39;00m\n\u001b[0;32m     93\u001b[0m \u001b[38;5;28;01mif\u001b[39;00m ax \u001b[38;5;129;01mis\u001b[39;00m \u001b[38;5;28;01mNone\u001b[39;00m:\n\u001b[1;32m---> 94\u001b[0m     ax \u001b[38;5;241m=\u001b[39m \u001b[43mplt\u001b[49m\u001b[38;5;241;43m.\u001b[39;49m\u001b[43mgca\u001b[49m\u001b[43m(\u001b[49m\u001b[43mprojection\u001b[49m\u001b[38;5;241;43m=\u001b[39;49m\u001b[43mwcs\u001b[49m\u001b[43m)\u001b[49m\n\u001b[0;32m     95\u001b[0m \u001b[38;5;28;01mif\u001b[39;00m style_kwargs \u001b[38;5;129;01mis\u001b[39;00m \u001b[38;5;28;01mNone\u001b[39;00m:\n\u001b[0;32m     96\u001b[0m     style_kwargs \u001b[38;5;241m=\u001b[39m {}\n",
      "\u001b[1;31mTypeError\u001b[0m: gca() got an unexpected keyword argument 'projection'"
     ]
    }
   ],
   "source": [
    "plot_finder_image(target, fov_radius = 20 * u.arcmin)  #field of view corresponding to the GROWTH-India telesocpe"
   ]
  },
  {
   "cell_type": "markdown",
   "metadata": {
    "collapsed": true
   },
   "source": [
    "Now let's define an array of targets to work with"
   ]
  },
  {
   "cell_type": "code",
   "execution_count": 44,
   "metadata": {},
   "outputs": [
    {
     "data": {
      "text/plain": [
       "[<FixedTarget \"vega\" at SkyCoord (ICRS): (ra, dec) in deg (279.23473479, 38.78368896)>,\n",
       " <FixedTarget \"polaris\" at SkyCoord (ICRS): (ra, dec) in deg (37.95456067, 89.26410897)>,\n",
       " <FixedTarget \"m1\" at SkyCoord (ICRS): (ra, dec) in deg (83.6287, 22.0147)>,\n",
       " <FixedTarget \"m42\" at SkyCoord (ICRS): (ra, dec) in deg (83.82, -5.39)>,\n",
       " <FixedTarget \"m55\" at SkyCoord (ICRS): (ra, dec) in deg (294.998792, -30.96475)>]"
      ]
     },
     "execution_count": 44,
     "metadata": {},
     "output_type": "execute_result"
    }
   ],
   "source": [
    "target_names = ['vega', 'polaris', 'm1', 'm42', 'm55']\n",
    "targets = [FixedTarget.from_name(target) for target in target_names]\n",
    "targets"
   ]
  },
  {
   "cell_type": "markdown",
   "metadata": {},
   "source": [
    "Which of these targets is up now?"
   ]
  },
  {
   "cell_type": "code",
   "execution_count": 45,
   "metadata": {},
   "outputs": [
    {
     "data": {
      "text/plain": [
       "array([False,  True,  True,  True, False])"
      ]
     },
     "execution_count": 45,
     "metadata": {},
     "output_type": "execute_result"
    }
   ],
   "source": [
    "iaohanle.target_is_up(now, targets)"
   ]
  },
  {
   "cell_type": "code",
   "execution_count": 46,
   "metadata": {},
   "outputs": [
    {
     "data": {
      "text/plain": [
       "array([ True,  True, False, False,  True])"
      ]
     },
     "execution_count": 46,
     "metadata": {},
     "output_type": "execute_result"
    }
   ],
   "source": [
    "iaohanle.target_is_up(midnight_iao, targets)"
   ]
  },
  {
   "cell_type": "markdown",
   "metadata": {},
   "source": [
    "### Exercise\n",
    "Find out the times at which the targets rise to an elevation of 10 degrees. Use target_rise_time. "
   ]
  },
  {
   "cell_type": "code",
   "execution_count": 48,
   "metadata": {},
   "outputs": [
    {
     "name": "stdout",
     "output_type": "stream",
     "text": [
      "2023-06-09 13:12:42.855\n"
     ]
    },
    {
     "name": "stderr",
     "output_type": "stream",
     "text": [
      "WARNING: TargetAlwaysUpWarning: Target with index 0 does not cross horizon=10.0 deg within 24 hours [astroplan.observer]\n",
      "C:\\Users\\bveda\\AppData\\Roaming\\Python\\Python310\\site-packages\\erfa\\core.py:154: ErfaWarning: ERFA function \"utctai\" yielded 1 of \"dubious year (Note 3)\"\n",
      "  warnings.warn('ERFA function \"{}\" yielded {}'.format(func_name, wmsg),\n",
      "C:\\Users\\bveda\\AppData\\Roaming\\Python\\Python310\\site-packages\\erfa\\core.py:154: ErfaWarning: ERFA function \"d2dtf\" yielded 1 of \"dubious year (Note 5)\"\n",
      "  warnings.warn('ERFA function \"{}\" yielded {}'.format(func_name, wmsg),\n"
     ]
    },
    {
     "name": "stdout",
     "output_type": "stream",
     "text": [
      "--\n",
      "2023-06-09 01:02:46.267\n",
      "2023-06-09 02:13:56.474\n",
      "2023-06-09 17:49:22.908\n"
     ]
    }
   ],
   "source": [
    "for target in targets:\n",
    "    print(iaohanle.target_rise_time(now, target,which= 'nearest', horizon = 10*u.deg).iso)    "
   ]
  },
  {
   "cell_type": "markdown",
   "metadata": {},
   "source": [
    "What is the elevation of Vega now?"
   ]
  },
  {
   "cell_type": "code",
   "execution_count": 33,
   "metadata": {},
   "outputs": [
    {
     "data": {
      "text/plain": [
       "<SkyCoord (AltAz: obstime=2019-04-02 05:53:06.289935, location=(1028191.03516148, 5272251.01802928, 3435803.52567405) m, pressure=0.0 hPa, temperature=0.0 deg_C, relative_humidity=0.0, obswl=1.0 micron): (az, alt) in deg\n",
       "    (299.98263436, 28.28822783)>"
      ]
     },
     "execution_count": 33,
     "metadata": {},
     "output_type": "execute_result"
    }
   ],
   "source": [
    "iaohanle.altaz(now, targets[0])"
   ]
  },
  {
   "cell_type": "markdown",
   "metadata": {},
   "source": [
    "Now let's plot the elevation of Vega to see how it varies over the night"
   ]
  },
  {
   "cell_type": "code",
   "execution_count": 34,
   "metadata": {},
   "outputs": [
    {
     "data": {
      "image/png": "[encoded data removed]",
      "text/plain": [
       "<Figure size 432x288 with 1 Axes>"
      ]
     },
     "metadata": {
      "needs_background": "light"
     },
     "output_type": "display_data"
    }
   ],
   "source": [
    "times = (t_start - 0.5 * u.h) + (t_end - t_start + 1 * u.h) * np.linspace(0.0, 1.0, 40)\n",
    "elevations = iaohanle.altaz(times, targets[0]).alt\n",
    "ax = plt.gca()\n",
    "ax.plot_date(times.plot_date, elevations.deg)\n",
    "ax.set(xlabel = 'Time UTC [MM-DD HH]' ,ylabel = 'Altitude [deg]')\n",
    "plt.setp(ax.get_xticklabels(), rotation=45, ha='right')\n",
    "plt.show()"
   ]
  },
  {
   "cell_type": "markdown",
   "metadata": {},
   "source": [
    "### Exercise\n",
    "Plot the altitude as a function of time for tonight for each of the targets in a single plot"
   ]
  },
  {
   "cell_type": "code",
   "execution_count": 35,
   "metadata": {},
   "outputs": [
    {
     "name": "stderr",
     "output_type": "stream",
     "text": [
      "No handles with labels found to put in legend.\n"
     ]
    },
    {
     "data": {
      "text/plain": [
       "<matplotlib.legend.Legend at 0x7f85874de160>"
      ]
     },
     "execution_count": 35,
     "metadata": {},
     "output_type": "execute_result"
    },
    {
     "data": {
      "image/png": "[encoded data removed]",
      "text/plain": [
       "<Figure size 432x288 with 1 Axes>"
      ]
     },
     "metadata": {
      "needs_background": "light"
     },
     "output_type": "display_data"
    }
   ],
   "source": [
    "times = t_start + (t_end - t_start) * np.linspace(0.0, 1.0, 20)\n",
    "elevations = []\n",
    "for target in targets: \n",
    "    elevations.append(iaohanle.altaz(times, target).alt)\n",
    "  \n",
    "ax = plt.gca()\n",
    "for elevation in elevations:\n",
    "    ax.plot_date(times.plot_date, elevation)\n",
    "    \n",
    "ax.set(xlabel = 'Time UTC [MM-DD HH]' ,ylabel = 'Altitude [deg]')\n",
    "plt.setp(ax.get_xticklabels(), rotation=45, ha='right')\n",
    "plt.legend()"
   ]
  },
  {
   "cell_type": "markdown",
   "metadata": {},
   "source": [
    "### Exercise\n",
    "Plot sky positions for each target using plot_sky for tonight at IAO in a single plot."
   ]
  },
  {
   "cell_type": "code",
   "execution_count": 36,
   "metadata": {},
   "outputs": [
    {
     "name": "stderr",
     "output_type": "stream",
     "text": [
      "/home/chummels/miniconda3/lib/python3.7/site-packages/matplotlib/cbook/deprecation.py:107: MatplotlibDeprecationWarning: The frac parameter was deprecated in version 2.1. Use tick padding via Axes.tick_params instead.\n",
      "  warnings.warn(message, mplDeprecation, stacklevel=1)\n"
     ]
    },
    {
     "data": {
      "text/plain": [
       "<matplotlib.legend.Legend at 0x7f8587488b70>"
      ]
     },
     "execution_count": 36,
     "metadata": {},
     "output_type": "execute_result"
    },
    {
     "data": {
      "image/png": "[encoded data removed]",
      "text/plain": [
       "<Figure size 432x288 with 1 Axes>"
      ]
     },
     "metadata": {
      "needs_background": "light"
     },
     "output_type": "display_data"
    }
   ],
   "source": [
    "times = (t_start - 0.5 * u.h) + (t_end - t_start + 1 * u.h) * np.linspace(0.0, 1.0, 20)\n",
    "for target in targets:\n",
    "    plot_sky(target, iaohanle, times)\n",
    "plt.legend(loc=[1.1,0])"
   ]
  },
  {
   "cell_type": "markdown",
   "metadata": {},
   "source": [
    "### Exercise\n",
    "Plot airmass vs time for each target in targets for tonight at IAO."
   ]
  },
  {
   "cell_type": "code",
   "execution_count": 37,
   "metadata": {},
   "outputs": [
    {
     "data": {
      "text/plain": [
       "<matplotlib.legend.Legend at 0x7f85873c7438>"
      ]
     },
     "execution_count": 37,
     "metadata": {},
     "output_type": "execute_result"
    },
    {
     "data": {
      "image/png": "[encoded data removed]",
      "text/plain": [
       "<Figure size 432x288 with 1 Axes>"
      ]
     },
     "metadata": {
      "needs_background": "light"
     },
     "output_type": "display_data"
    }
   ],
   "source": [
    "for target in targets:\n",
    "    plot_airmass(target, iaohanle, t_observe)\n",
    "plt.ylim(4,0.5)    \n",
    "plt.legend()"
   ]
  },
  {
   "cell_type": "markdown",
   "metadata": {
    "collapsed": true
   },
   "source": [
    "### Observational Constraints\n",
    "- between civil twilights\n",
    "- airmass\n",
    "- altitude limits"
   ]
  },
  {
   "cell_type": "code",
   "execution_count": 38,
   "metadata": {},
   "outputs": [],
   "source": [
    "from astroplan import (AltitudeConstraint, AirmassConstraint,\n",
    "                       AtNightConstraint, MoonSeparationConstraint)\n",
    "constraints = [AltitudeConstraint(15*u.deg, 84*u.deg),\n",
    "               AirmassConstraint(3), AtNightConstraint.twilight_civil(), MoonSeparationConstraint(min = 10 * u.deg)]\n",
    "t_range = Time([t_start - 0.5 * u.hour, t_end + 0.5 * u.hour])"
   ]
  },
  {
   "cell_type": "code",
   "execution_count": 39,
   "metadata": {},
   "outputs": [
    {
     "name": "stdout",
     "output_type": "stream",
     "text": [
      "[ True  True  True  True False]\n",
      "[False  True False False False]\n"
     ]
    }
   ],
   "source": [
    "from astroplan import is_observable, is_always_observable, months_observable\n",
    "# Are targets ever observable in the time range?\n",
    "ever_observable = is_observable(constraints, iaohanle, targets, time_range=t_range)\n",
    "print(ever_observable)\n",
    "# Are targets always observable in the time range?\n",
    "always_observable = is_always_observable(constraints, iaohanle, targets, time_range=t_range)\n",
    "print(always_observable)\n",
    "# During what months are the targets ever observable?\n",
    "obs_months = months_observable(constraints, iaohanle, targets)"
   ]
  },
  {
   "cell_type": "markdown",
   "metadata": {},
   "source": [
    "The functions is_observable and ever_observable return boolean arrays. Let's print their output in tabular form."
   ]
  },
  {
   "cell_type": "code",
   "execution_count": 40,
   "metadata": {},
   "outputs": [
    {
     "name": "stdout",
     "output_type": "stream",
     "text": [
      "targets ever_observable always_observable\n",
      "------- --------------- -----------------\n",
      "   vega            True             False\n",
      "polaris            True              True\n",
      "     m1            True             False\n",
      "    m42            True             False\n",
      "    m55           False             False\n"
     ]
    }
   ],
   "source": [
    "from astropy.table import Table\n",
    "observability_table = Table()\n",
    "observability_table['targets'] = [target.name for target in targets]\n",
    "observability_table['ever_observable'] = ever_observable\n",
    "observability_table['always_observable'] = always_observable\n",
    "print(observability_table)"
   ]
  },
  {
   "cell_type": "markdown",
   "metadata": {},
   "source": [
    "Or we could do this directly using the observability_table function "
   ]
  },
  {
   "cell_type": "code",
   "execution_count": 41,
   "metadata": {},
   "outputs": [
    {
     "name": "stdout",
     "output_type": "stream",
     "text": [
      "target name ever observable always observable fraction of time observable\n",
      "----------- --------------- ----------------- ---------------------------\n",
      "       vega            True             False                         0.5\n",
      "    polaris            True              True                         1.0\n",
      "         m1            True             False                         0.3\n",
      "        m42            True             False                         0.2\n",
      "        m55           False             False                         0.0\n"
     ]
    }
   ],
   "source": [
    "from astroplan import observability_table\n",
    "table = observability_table(constraints, iaohanle, targets, time_range = t_range)\n",
    "print(table)"
   ]
  },
  {
   "cell_type": "markdown",
   "metadata": {},
   "source": [
    "### Exercise\n",
    "- Create a list of your favourite targets and store it in a text file with 3 columns - name, RA and Dec. Or you could    use 'targetlists.txt' which already contains a list of targets. \n",
    "- Read the text file, and store the targets as FixedTarget objects.\n",
    "- Get observability tables for all the targets for different moon separation angles (10, 20, 30... degrees)\n",
    "- Plot airmass and sky position as a function of time for tonight for all your targets."
   ]
  },
  {
   "cell_type": "code",
   "execution_count": 42,
   "metadata": {},
   "outputs": [],
   "source": [
    "from astropy.io import ascii\n",
    "table = ascii.read('data/targetlist.txt')\n",
    "targets = [FixedTarget(coord=SkyCoord(ra=ra*u.deg, dec=dec*u.deg), name=name) for name, ra, dec in table]\n",
    "#The recipe for the remaining part of the exercise is in the previous solved exercises"
   ]
  }
 ],
 "metadata": {
  "kernelspec": {
   "display_name": "Python 3 (ipykernel)",
   "language": "python",
   "name": "python3"
  },
  "language_info": {
   "codemirror_mode": {
    "name": "ipython",
    "version": 3
   },
   "file_extension": ".py",
   "mimetype": "text/x-python",
   "name": "python",
   "nbconvert_exporter": "python",
   "pygments_lexer": "ipython3",
   "version": "3.10.6"
  }
 },
 "nbformat": 4,
 "nbformat_minor": 2
}
